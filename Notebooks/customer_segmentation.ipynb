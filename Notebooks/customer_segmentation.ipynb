{
  "nbformat": 4,
  "nbformat_minor": 0,
  "metadata": {
    "colab": {
      "name": "customer-segmentation.ipynb",
      "provenance": []
    },
    "kernelspec": {
      "name": "python3",
      "display_name": "Python 3"
    },
    "language_info": {
      "name": "python"
    }
  },
  "cells": [
    {
      "cell_type": "markdown",
      "source": [
        "# Online Retail - Customer Segmentation & Clustering\n",
        "---"
      ],
      "metadata": {
        "id": "fZ4Oaofb2LkU"
      }
    },
    {
      "cell_type": "markdown",
      "source": [
        "## Data Description:\n",
        "---"
      ],
      "metadata": {
        "id": "Q2c7Uqml3sCx"
      }
    },
    {
      "cell_type": "markdown",
      "source": [
        "### Data Set Information:\n",
        "\n",
        "  This is a transnational data set which contains all the transactions occurring between 01/12/2010 and 09/12/2011 for a UK-based and registered non-store online retail.The company mainly sells unique all-occasion gifts. Many customers of the company are wholesalers.\n",
        "\n",
        "Source: [Online-Retail](https://archive.ics.uci.edu/ml/datasets/Online+Retail)\n",
        "\n",
        "---\n",
        "\n",
        "### Attribute Information:\n",
        "\n",
        "- **InvoiceNo**: Invoice number. Nominal, a 6-digit integral number uniquely assigned to each transaction. If this code starts with letter 'c', it indicates a cancellation.\n",
        "- **StockCode**: Product (item) code. Nominal, a 5-digit integral number uniquely assigned to each distinct product.\n",
        "- **Description**: Product (item) name. Nominal.\n",
        "- **Quantity**: The quantities of each product (item) per transaction. Numeric.\n",
        "- **InvoiceDate**: Invice Date and time. Numeric, the day and time when each transaction was generated.\n",
        "- **UnitPrice**: Unit price. Numeric, Product price per unit in sterling.\n",
        "- **CustomerID**: Customer number. Nominal, a 5-digit integral number uniquely assigned to each customer.\n",
        "- **Country**: Country name. Nominal, the name of the country where each customer resides.\n",
        "\n",
        "---"
      ],
      "metadata": {
        "id": "6RvCqn7D2sGM"
      }
    },
    {
      "cell_type": "code",
      "source": [
        ""
      ],
      "metadata": {
        "id": "EPreCBBn4hqx"
      },
      "execution_count": null,
      "outputs": []
    }
  ]
}